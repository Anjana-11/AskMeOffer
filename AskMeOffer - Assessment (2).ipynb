{
 "cells": [
  {
   "cell_type": "markdown",
   "id": "197f8429",
   "metadata": {},
   "source": [
    "\n",
    "# AskMeOffer - Project\n"
   ]
  },
  {
   "cell_type": "code",
   "execution_count": 2,
   "id": "4e02af8b",
   "metadata": {},
   "outputs": [
    {
     "name": "stdout",
     "output_type": "stream",
     "text": [
      "        user_id  coupons_applied  successful_coupons  total_savings\n",
      "count  5.000000         5.000000            5.000000       5.000000\n",
      "mean   3.000000         4.000000            3.000000      16.600000\n",
      "std    1.581139         1.581139            1.581139       5.738031\n",
      "min    1.000000         2.000000            1.000000       7.500000\n",
      "25%    2.000000         3.000000            2.000000      15.000000\n",
      "50%    3.000000         4.000000            3.000000      18.000000\n",
      "75%    4.000000         5.000000            4.000000      20.500000\n",
      "max    5.000000         6.000000            5.000000      22.000000\n"
     ]
    },
    {
     "data": {
      "image/png": "[encoded data removed]",
      "text/plain": [
       "<Figure size 720x432 with 1 Axes>"
      ]
     },
     "metadata": {
      "needs_background": "light"
     },
     "output_type": "display_data"
    },
    {
     "name": "stdout",
     "output_type": "stream",
     "text": [
      "   user_id  coupons_applied  successful_coupons  total_savings  cluster\n",
      "0        1                5                   4           20.5        0\n",
      "1        2                3                   2           15.0        0\n",
      "2        3                4                   3           18.0        0\n",
      "3        4                2                   1            7.5        1\n",
      "4        5                6                   5           22.0        0\n"
     ]
    }
   ],
   "source": [
    "import pandas as pd\n",
    "import numpy as np\n",
    "import matplotlib.pyplot as plt\n",
    "from sklearn.cluster import KMeans\n",
    "\n",
    "# Hypothetical user data\n",
    "data = {\n",
    "    'user_id': [1, 2, 3, 4, 5],\n",
    "    'coupons_applied': [5, 3, 4, 2, 6],\n",
    "    'successful_coupons': [4, 2, 3, 1, 5],\n",
    "    'total_savings': [20.5, 15.0, 18.0, 7.5, 22.0]\n",
    "}\n",
    "\n",
    "df = pd.DataFrame(data)\n",
    "\n",
    "# Basic statistics\n",
    "print(df.describe())\n",
    "\n",
    "# Plotting data\n",
    "plt.figure(figsize=(10, 6))\n",
    "plt.scatter(df['coupons_applied'], df['total_savings'])\n",
    "plt.xlabel('Coupons Applied')\n",
    "plt.ylabel('Total Savings ($)')\n",
    "plt.title('Coupons Applied vs Total Savings')\n",
    "plt.show()\n",
    "\n",
    "# Clustering users based on behavior\n",
    "kmeans = KMeans(n_clusters=2)\n",
    "df['cluster'] = kmeans.fit_predict(df[['coupons_applied', 'total_savings']])\n",
    "print(df)\n"
   ]
  },
  {
   "cell_type": "code",
   "execution_count": null,
   "id": "b8fdbb36",
   "metadata": {},
   "outputs": [],
   "source": []
  }
 ],
 "metadata": {
  "kernelspec": {
   "display_name": "Python 3 (ipykernel)",
   "language": "python",
   "name": "python3"
  },
  "language_info": {
   "codemirror_mode": {
    "name": "ipython",
    "version": 3
   },
   "file_extension": ".py",
   "mimetype": "text/x-python",
   "name": "python",
   "nbconvert_exporter": "python",
   "pygments_lexer": "ipython3",
   "version": "3.9.12"
  }
 },
 "nbformat": 4,
 "nbformat_minor": 5
}
